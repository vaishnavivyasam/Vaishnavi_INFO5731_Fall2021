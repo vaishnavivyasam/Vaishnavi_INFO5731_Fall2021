{
  "nbformat": 4,
  "nbformat_minor": 0,
  "metadata": {
    "colab": {
      "name": "INFO5731_Assignment_One.ipynb",
      "provenance": [],
      "collapsed_sections": [],
      "include_colab_link": true
    },
    "kernelspec": {
      "display_name": "Python 3",
      "language": "python",
      "name": "python3"
    },
    "language_info": {
      "codemirror_mode": {
        "name": "ipython",
        "version": 3
      },
      "file_extension": ".py",
      "mimetype": "text/x-python",
      "name": "python",
      "nbconvert_exporter": "python",
      "pygments_lexer": "ipython3",
      "version": "3.8.5"
    }
  },
  "cells": [
    {
      "cell_type": "markdown",
      "metadata": {
        "id": "view-in-github",
        "colab_type": "text"
      },
      "source": [
        "<a href=\"https://colab.research.google.com/github/vaishnavivyasam/Vaishnavi_INFO5731_Fall2021/blob/main/INFO5731_Assignment_One.ipynb\" target=\"_parent\"><img src=\"https://colab.research.google.com/assets/colab-badge.svg\" alt=\"Open In Colab\"/></a>"
      ]
    },
    {
      "cell_type": "markdown",
      "metadata": {
        "id": "Ryk8D1Q4Wsrp"
      },
      "source": [
        "# **INFO5731 Assignment One**"
      ]
    },
    {
      "cell_type": "markdown",
      "metadata": {
        "id": "90_NR8c5XGWc"
      },
      "source": [
        "# Question 1\n",
        "\n",
        "(20 points). Write a Python program to generate 12 random numbers between 1 and 100. Sort the list of numbers in ascending order and print it out. Sort the list of numbers in descending order and print it out. Calculate the average for the group and print it out."
      ]
    },
    {
      "cell_type": "code",
      "metadata": {
        "colab": {
          "base_uri": "https://localhost:8080/"
        },
        "id": "5QX6bJjGWXY9",
        "outputId": "9e34fc44-5798-4a4e-84b9-3aaffbf42cfe"
      },
      "source": [
        "import random\n",
        "random_list = random.sample(range(100), 12)\n",
        "random_list.sort() # to print the numbers in ascending order\n",
        "print ('Random numbers in ascending order:', random_list)\n",
        "\n",
        "random_list.sort(reverse=True) # to print the numbers in decending order\n",
        "print ('Random numbers in descending order:', random_list)\n",
        "average = sum(random_list) / len(random_list)\n",
        "\n",
        "print('The average:', average)\n",
        "\n"
      ],
      "execution_count": 4,
      "outputs": [
        {
          "output_type": "stream",
          "name": "stdout",
          "text": [
            "Random numbers in ascending order: [12, 13, 14, 25, 46, 55, 56, 70, 73, 81, 88, 89]\n",
            "Random numbers in descending order: [89, 88, 81, 73, 70, 56, 55, 46, 25, 14, 13, 12]\n",
            "The average: 51.833333333333336\n"
          ]
        }
      ]
    },
    {
      "cell_type": "markdown",
      "metadata": {
        "id": "1F_PZdH9Sh49"
      },
      "source": [
        "# Question 2\n",
        "(25 points). Write a program that will do the following string formatting tasks:\n",
        "\n",
        "(1) Ask the user to enter two sentences.\n",
        "\n",
        "(2) Make each sentence into a list. Each element in the list should correspond to a word in the sentence. For example, if the sentence is \"Alas! Am I alive? This is my first python program\", the program should print out ['Alas, '!', 'Am', 'I', 'alive, '?', 'This', 'is', 'my', 'first', 'python', 'program'].\n",
        "\n",
        "(3) Compare the two sentences. Print out a list of words that occur in both sentences.\n",
        "\n",
        "(4) Remove any punctuation from the sentence and print it back out. It should remove at least the following characters, but it can remove more: period(“.”), comma (“,”), semicolon (“;”), and colon (“:”)\n",
        "\n",
        "(5) Count the number of vowels in the sentences. Print out each vowel and the number of times it appears in the sentences, such as: a:2, e:1, i:0, etc"
      ]
    },
    {
      "cell_type": "code",
      "metadata": {
        "colab": {
          "base_uri": "https://localhost:8080/"
        },
        "id": "Y0oOSlsOS0cq",
        "outputId": "2fcc554f-99c6-43a5-cdd8-08e0d0b45802"
      },
      "source": [
        "import re # regular expressions operations\n",
        "sen1=input('Enter first sentence:')\n",
        "list1= re.findall(r\"[\\w']+|[.,!?;]\", sen1)\n",
        "print (list1)\n",
        "\n",
        "sen2=input('Enter second sentence:')\n",
        "list2= re.findall(r\"[\\w']+|[.,!?;]\", sen2)\n",
        "print (list2)\n",
        "\n",
        "#3Comparing the two sentences and printing commonly occured words\n",
        "\n",
        "[elem for elem in list2 if elem in list1 ]\n",
        "\n",
        "#4 Removing puncuations from a sentence\n",
        "punctuations = '''!()-[]{};:'\"\\,<>./?@#$%^&*_~''' # all the puncuations that need to be identified\n",
        "no_punction = \"\"\n",
        "sentences = sen1, sen2\n",
        "for i in sentences:\n",
        "  for char in i:\n",
        "    if char not in punctuations:\n",
        "         no_punction = no_punction + char\n",
        "  print(no_punction)\n",
        "  no_punction = \"\"\n",
        "#5 Count the number of vowels in the sentences. Print out each vowel and the number of times it appears in the sentences\n",
        "vowels = 'aeiou'\n",
        "\n",
        "count = {}.fromkeys(vowels,0)\n",
        "\n",
        "sentences = sen1, sen2\n",
        "for i in sentences:\n",
        "  for char in i:\n",
        "     if char in count:\n",
        "         count[char] += 1\n",
        "\n",
        "print(count)"
      ],
      "execution_count": null,
      "outputs": [
        {
          "output_type": "stream",
          "name": "stdout",
          "text": [
            "Enter first sentence:Hi ! This is INFO 5731 course.\n",
            "['Hi', '!', 'This', 'is', 'INFO', '5731', 'course', '.']\n",
            "Enter second sentence:and I am Vaishnavi Vyasam, doing assignment 1\n",
            "['and', 'I', 'am', 'Vaishnavi', 'Vyasam', ',', 'doing', 'assignment', '1']\n",
            "Hi  This is INFO 5731 course\n",
            "and I am Vaishnavi Vyasam doing assignment 1\n",
            "{'a': 7, 'e': 2, 'i': 7, 'o': 2, 'u': 1}\n"
          ]
        }
      ]
    },
    {
      "cell_type": "markdown",
      "metadata": {
        "id": "CmFoI4jDS9nx"
      },
      "source": [
        "# Question 3 \n",
        "\n",
        "(15 points). The formula that describes the volume V of a sphere with radius r is the following:\n",
        "\n",
        "$ V=\\frac{4}{3}\\ast\\ \\pi\\ast\\ r^3 $\n",
        "\n",
        "Write a program to calculate the value of V when r is in the range of 1–10. Output the result in the following format:\n",
        "\n",
        "\tr\tV\n",
        "\t1\t…\n",
        "\t2\t…\n",
        "\t3\t…\n"
      ]
    },
    {
      "cell_type": "code",
      "metadata": {
        "id": "pEyqeioAT95b",
        "colab": {
          "base_uri": "https://localhost:8080/"
        },
        "outputId": "a78a2541-4461-49b3-a1fb-dacc6cc03bdc"
      },
      "source": [
        "import math\n",
        "\n",
        "def sphere_volume(r):\n",
        "  return (4/3*math.pi*r**3)\n",
        "\n",
        "print ('r V')\n",
        "\n",
        "for r in range(11):\n",
        "  print (str(r) +\" \" +str(sphere_volume(r)))\n",
        "\n"
      ],
      "execution_count": null,
      "outputs": [
        {
          "output_type": "stream",
          "name": "stdout",
          "text": [
            "r V\n",
            "0 0.0\n",
            "1 4.1887902047863905\n",
            "2 33.510321638291124\n",
            "3 113.09733552923254\n",
            "4 268.082573106329\n",
            "5 523.5987755982989\n",
            "6 904.7786842338603\n",
            "7 1436.7550402417319\n",
            "8 2144.660584850632\n",
            "9 3053.6280592892786\n",
            "10 4188.790204786391\n"
          ]
        }
      ]
    },
    {
      "cell_type": "code",
      "metadata": {
        "id": "pMCr3l8tnu0j"
      },
      "source": [
        ""
      ],
      "execution_count": null,
      "outputs": []
    },
    {
      "cell_type": "markdown",
      "metadata": {
        "id": "z3tBE7E-Xn5X"
      },
      "source": [
        "# Question 4\n",
        "\n",
        "(40 points). In the field of Data Science, data is often formatted as a comma-delimited (CSV) file, where each line in a file corresponds to a field's value. Refer to Chapter 9 (p. 106) for more information on comma-delimited files. To answer this question, you will need to download the file [Assignment1_denton_housing.csv](https://github.com/unt-iialab/info5731-fall2021/blob/main/assignments/Assignment1_denton_housing.csv) included with this assignment. The file [Assignment1_denton_housing.csv](https://github.com/unt-iialab/info5731-fall2021/blob/main/assignments/Assignment1_denton_housing.csv) contains statistics about housing in the city of Denton from 2008 to 2014. Write a program to implement the following questions.\n",
        "\n",
        "(1) (10 pts) Calculate the difference in the number of Occupied Housing Units from year to year and print it. The difference must be calculated for the consecutive years such as 2008-2009, 2009-2010 etc. Finally, print the values in the ascending order.\n",
        "\n",
        "(2) (10 pts) For all the years, calculate the percentage of housing units which are vacant an occupied. Print the results in the following format:\n",
        "\n",
        "Year Vacant Housing Units Occupied Housing Units\n",
        "\n",
        "    2008  30%   70%                          \n",
        "\t2009 ----- -----\n",
        "\t2010 ----- -----\n",
        "    2011 ----- -----\n",
        "\t2012 ----- -----\n",
        "    2013 ----- -----\n",
        "\t2014 ----- -----\n",
        "  \n",
        "  \n",
        "\n",
        "(3) (10 pts) Calculate and print the valued and years in which the highest number of housing units were vacant and occupied. Print the results in the following format:  \n",
        "\n",
        "                              Year\tValue\n",
        "\tVacant Housing Units\t  -----   -----\n",
        "\tOccupied Housing Units\t-----   -----\n",
        "\n",
        "(4) (10 pts) Calculate the harmonic mean of the total housing units and print it out. You can find the information about harmonic mean here: https://ncalculators.com/statistics/harmonic-mean-calculator.htm"
      ]
    },
    {
      "cell_type": "code",
      "metadata": {
        "colab": {
          "base_uri": "https://localhost:8080/"
        },
        "id": "ay__boA56LjR",
        "outputId": "5b64110c-e59e-4232-f33d-30140e71e8f3"
      },
      "source": [
        "import csv\n",
        "from csv import reader\n",
        "from operator import itemgetter\n",
        "\n",
        "with open(\"/content/Assignment1_denton_housing.csv.csv\") as f:\n",
        "    reader = reader(f) # read rows into a dictionary format\n",
        "    data_list=  (sorted(list(reader),key=itemgetter(0)))\n",
        "    year_ohu_data=[]\n",
        "    current_value = 0\n",
        "    current_year  = 0\n",
        "    for item in data_list:\n",
        "        if item[1] == 'Occupied Housing Units':\n",
        "            previous_value = current_value\n",
        "            current_value = int(item[2])\n",
        "            previous_year = current_year\n",
        "            current_year = int(item[0])\n",
        "            year_ohu_data.append([(current_year,previous_year),abs(current_value-previous_value)])\n",
        "    year_ohu_data = year_ohu_data[1:]\n",
        "    print(\"Printing Difference in Occupied Housing Units between consecutive years\")\n",
        "    for elem in year_ohu_data:\n",
        "        print(elem[0],\" - \",elem[1] )\n",
        "    year_ohu_data = (sorted(year_ohu_data,key=itemgetter(1)))\n",
        "    print(\"\\nPrinting in Ascending Order, the Difference in Occupied Housing Units between consecutive years\")\n",
        "\n",
        "    for elem in year_ohu_data:\n",
        "        print(elem[0],\" - \",elem[1] )\n",
        "\n",
        "          \n",
        "\n",
        "\n"
      ],
      "execution_count": null,
      "outputs": [
        {
          "output_type": "stream",
          "name": "stdout",
          "text": [
            "Printing Difference in Occupied Housing Units between consecutive years\n",
            "(2009, 2008)  -  795\n",
            "(2010, 2009)  -  5091\n",
            "(2011, 2010)  -  303\n",
            "(2012, 2011)  -  1404\n",
            "(2013, 2012)  -  1565\n",
            "(2014, 2013)  -  2622\n",
            "\n",
            "Printing in Ascending Order, the Difference in Occupied Housing Units between consecutive years\n",
            "(2011, 2010)  -  303\n",
            "(2009, 2008)  -  795\n",
            "(2012, 2011)  -  1404\n",
            "(2013, 2012)  -  1565\n",
            "(2014, 2013)  -  2622\n",
            "(2010, 2009)  -  5091\n"
          ]
        }
      ]
    },
    {
      "cell_type": "code",
      "metadata": {
        "colab": {
          "base_uri": "https://localhost:8080/"
        },
        "id": "ddnc7rlX6LJU",
        "outputId": "298e6c83-37b9-41fd-a003-878b800150aa"
      },
      "source": [
        "import csv\n",
        "from csv import reader\n",
        "from operator import itemgetter\n",
        "\n",
        "with open(\"/content/Assignment1_denton_housing.csv.csv\") as f:\n",
        "    reader = reader(f) # read rows into a dictionary format\n",
        "    data_list=  (sorted(list(reader),key=itemgetter(0)))\n",
        "    year_vhu_ohu_data=[]\n",
        "    current_value = 0\n",
        "    current_year  = 0\n",
        "    percent_vhu = percent_ohu = 0\n",
        "    for item in data_list:\n",
        "        if item[1] == \"Vacant Housing Units\" :\n",
        "            percent_vhu = int(item[2])\n",
        "        if item[1] == 'Occupied Housing Units':\n",
        "            percent_ohu = int(item[2])\n",
        "        if percent_ohu and percent_vhu :\n",
        "            percent_vhu = round((percent_vhu/(percent_ohu + percent_vhu))*100,1)\n",
        "            percent_ohu = 100 - percent_vhu\n",
        "            year_vhu_ohu_data.append([item[0],percent_vhu,percent_ohu])\n",
        "            percent_vhu = percent_ohu = 0\n",
        "    print(\"Year    Vacant%   Occupied%\")\n",
        "    for item in year_vhu_ohu_data:\n",
        "        print (str(item[0]) + \"    \" + str(item[1]) + \"%\" + \"    \" + str(item[2]) + \"%\")\n"
      ],
      "execution_count": null,
      "outputs": [
        {
          "output_type": "stream",
          "name": "stdout",
          "text": [
            "Year    Vacant%   Occupied%\n",
            "2008    10.9%    89.1%\n",
            "2009    9.1%    90.9%\n",
            "2010    8.1%    91.9%\n",
            "2011    9.4%    90.6%\n",
            "2012    6.7%    93.3%\n",
            "2013    8.8%    91.2%\n",
            "2014    5.7%    94.3%\n"
          ]
        }
      ]
    },
    {
      "cell_type": "code",
      "metadata": {
        "colab": {
          "base_uri": "https://localhost:8080/"
        },
        "id": "zFujuDRIaAR-",
        "outputId": "0c07f37d-e0e7-46bf-8191-335fa018ebb1"
      },
      "source": [
        "import csv\n",
        "from csv import reader\n",
        "from operator import itemgetter\n",
        "\n",
        "with open(\"/content/Assignment1_denton_housing.csv.csv\") as f:\n",
        "    reader = reader(f) # read rows into a dictionary format\n",
        "    data_list=  (sorted(list(reader),key=itemgetter(0)))\n",
        "    vhu = []\n",
        "    ohu = []\n",
        "    for item in data_list:\n",
        "        if item[1] == \"Vacant Housing Units\" :\n",
        "            vhu.append([int(item[2]),int(item[0])])\n",
        "        if item[1] == 'Occupied Housing Units':\n",
        "            ohu.append([int(item[2]),int(item[0])])\n",
        "    vhu=(sorted(vhu,key=itemgetter(0)))\n",
        "    ohu =(sorted(ohu,key=itemgetter(0)))\n",
        "    vhu = vhu[-1:]\n",
        "    ohu = ohu[-1:]\n",
        "    print(\"                          Year    Value\")\n",
        "    print(f\"Vacant Housing Units      \" + str(vhu[-1:][0][1])+\"    \" + str(vhu[-1:][0][0]))\n",
        "    print(f\"Occupied Housing Units    \" + str(ohu[-1:][0][1])+\"    \" + str(ohu[-1:][0][0]))\n",
        "\n",
        "\n",
        "\n"
      ],
      "execution_count": null,
      "outputs": [
        {
          "output_type": "stream",
          "name": "stdout",
          "text": [
            "                          Year    Value\n",
            "Vacant Housing Units      2008    4483\n",
            "Occupied Housing Units    2014    46295\n"
          ]
        }
      ]
    },
    {
      "cell_type": "code",
      "metadata": {
        "colab": {
          "base_uri": "https://localhost:8080/"
        },
        "id": "MSGT093JjN5_",
        "outputId": "674a1c89-8edc-48fe-a050-582627738817"
      },
      "source": [
        "import csv\n",
        "from csv import reader\n",
        "from operator import itemgetter\n",
        "\n",
        "with open(\"/content/Assignment1_denton_housing.csv.csv\") as f:\n",
        "    reader = reader(f) # read rows into a dictionary format\n",
        "    data_list=  (sorted(list(reader),key=itemgetter(0)))\n",
        "    thu = []\n",
        "    harmonic_mean = 0\n",
        "    for item in data_list:\n",
        "        if item[1] == \"Total Housing Units\" :\n",
        "            thu.append(int(item[2]))\n",
        "    for elem in thu:\n",
        "      harmonic_mean += 1/elem\n",
        "    harmonic_mean = len(thu)/ harmonic_mean\n",
        "    print(\"Harmonic mean of Total housing Units = \",harmonic_mean)\n",
        "       \n",
        "\n",
        "\n"
      ],
      "execution_count": null,
      "outputs": [
        {
          "output_type": "stream",
          "name": "stdout",
          "text": [
            "Harmonic mean of Total housing Units =  44398.28543969185\n"
          ]
        }
      ]
    }
  ]
}