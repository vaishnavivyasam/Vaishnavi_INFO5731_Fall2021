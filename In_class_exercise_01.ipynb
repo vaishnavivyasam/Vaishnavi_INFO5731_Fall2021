{
  "nbformat": 4,
  "nbformat_minor": 0,
  "metadata": {
    "colab": {
      "name": "In_class_exercise_01.ipynb",
      "provenance": [],
      "collapsed_sections": [],
      "include_colab_link": true
    },
    "kernelspec": {
      "display_name": "Python 3",
      "language": "python",
      "name": "python3"
    },
    "language_info": {
      "codemirror_mode": {
        "name": "ipython",
        "version": 3
      },
      "file_extension": ".py",
      "mimetype": "text/x-python",
      "name": "python",
      "nbconvert_exporter": "python",
      "pygments_lexer": "ipython3",
      "version": "3.8.5"
    }
  },
  "cells": [
    {
      "cell_type": "markdown",
      "metadata": {
        "id": "view-in-github",
        "colab_type": "text"
      },
      "source": [
        "<a href=\"https://colab.research.google.com/github/vaishnavivyasam/Vaishnavi_INFO5731_Fall2021/blob/main/In_class_exercise_01.ipynb\" target=\"_parent\"><img src=\"https://colab.research.google.com/assets/colab-badge.svg\" alt=\"Open In Colab\"/></a>"
      ]
    },
    {
      "cell_type": "markdown",
      "metadata": {
        "id": "DymRJbxDBCnf"
      },
      "source": [
        "# **The first In-class-exercise (09/01/2021, 40 points in total)**"
      ]
    },
    {
      "cell_type": "markdown",
      "metadata": {
        "id": "03jb4GZsBkBS"
      },
      "source": [
        "(1) Write a Python program to calculate the length of a string. (4 points)"
      ]
    },
    {
      "cell_type": "code",
      "metadata": {
        "colab": {
          "base_uri": "https://localhost:8080/"
        },
        "id": "YaGLbSHHB8Ej",
        "outputId": "424d04c8-ff3d-4920-ecb0-e02c5442cc5b"
      },
      "source": [
        "str='department of information science'\n",
        "print(len(str))\n"
      ],
      "execution_count": null,
      "outputs": [
        {
          "output_type": "stream",
          "name": "stdout",
          "text": [
            "33\n"
          ]
        }
      ]
    },
    {
      "cell_type": "markdown",
      "metadata": {
        "id": "jJDe71iLB616"
      },
      "source": [
        "(2) Write a Python program to count the number of characters in a string. (4 points)\n",
        "\n",
        "Sample String : 'google.com‘, \n",
        "\n",
        "Expected Result : {'o': 3, 'g': 2, '.': 1, 'e': 1, 'l': 1, 'm': 1, 'c': 1}"
      ]
    },
    {
      "cell_type": "code",
      "metadata": {
        "id": "MtKskTzbCLaU",
        "colab": {
          "base_uri": "https://localhost:8080/"
        },
        "outputId": "48006f83-6ac0-4f2c-e82b-913bf3fd3cc2"
      },
      "source": [
        "str=\"google.com\"\n",
        "\n",
        "result={}\n",
        "\n",
        "for x in str:\n",
        "  if x in result:\n",
        "    result[x]=result[x]+1\n",
        "  else:\n",
        "   result[x]=1\n",
        "   \n",
        "   print(result)\n"
      ],
      "execution_count": null,
      "outputs": [
        {
          "output_type": "stream",
          "name": "stdout",
          "text": [
            "{'g': 1}\n",
            "{'g': 1, 'o': 1}\n",
            "{'g': 2, 'o': 2, 'l': 1}\n",
            "{'g': 2, 'o': 2, 'l': 1, 'e': 1}\n",
            "{'g': 2, 'o': 2, 'l': 1, 'e': 1, '.': 1}\n",
            "{'g': 2, 'o': 2, 'l': 1, 'e': 1, '.': 1, 'c': 1}\n",
            "{'g': 2, 'o': 3, 'l': 1, 'e': 1, '.': 1, 'c': 1, 'm': 1}\n"
          ]
        }
      ]
    },
    {
      "cell_type": "markdown",
      "metadata": {
        "id": "55W9AMdXCSpV"
      },
      "source": [
        "(3) Write a Python program to sum all the items in a list. (4 points)"
      ]
    },
    {
      "cell_type": "code",
      "metadata": {
        "id": "I57NXsauCec2",
        "colab": {
          "base_uri": "https://localhost:8080/"
        },
        "outputId": "0e906fd7-e7c6-43b2-eb60-d623f3dcba9e"
      },
      "source": [
        "sum_list=[140,20,10]\n",
        "print(sum(sum_list))\n"
      ],
      "execution_count": 2,
      "outputs": [
        {
          "output_type": "stream",
          "name": "stdout",
          "text": [
            "170\n"
          ]
        }
      ]
    },
    {
      "cell_type": "markdown",
      "metadata": {
        "id": "4ulBZ6yhCi9F"
      },
      "source": [
        "(4) Write a Python program to get a string from a given string where all occurrences of its first char have been changed to '\\$', except the first char itself. (4 points)\n",
        "\n",
        "Sample String : 'restart‘, \n",
        "\n",
        "Expected Result : 'resta\\$t'"
      ]
    },
    {
      "cell_type": "code",
      "metadata": {
        "id": "Fj0XhwbBCw2o",
        "colab": {
          "base_uri": "https://localhost:8080/"
        },
        "outputId": "545be8a4-746b-4976-964b-aa43baa9dac0"
      },
      "source": [
        "def change_char(str1):\n",
        "  char = str1[0]\n",
        "  str1 = str1.replace(char, '$')\n",
        "  str1 = char + str1[1:]\n",
        "\n",
        "  return str1\n",
        "\n",
        "print(change_char('restart'))\n"
      ],
      "execution_count": null,
      "outputs": [
        {
          "output_type": "stream",
          "name": "stdout",
          "text": [
            "resta$t\n"
          ]
        }
      ]
    },
    {
      "cell_type": "markdown",
      "metadata": {
        "id": "_bIP7s1MCzue"
      },
      "source": [
        "(5) Write a program with python which could accept two parameter a and b to calculate and output the result of S, where \n",
        "\n",
        "$\\ S=3.14*(1+a/b)^3$ (4 points)\n",
        "\n"
      ]
    },
    {
      "cell_type": "code",
      "metadata": {
        "id": "w79QilHXD3Mg",
        "colab": {
          "base_uri": "https://localhost:8080/"
        },
        "outputId": "aff8305c-8270-42bb-d0e9-f185baf8d720"
      },
      "source": [
        "def Compute_func(a,b):\n",
        "  s = 3.14 *((1+a/b)**3)\n",
        "  return s\n",
        "\n",
        "print(Compute_func(1,1))"
      ],
      "execution_count": 6,
      "outputs": [
        {
          "output_type": "stream",
          "name": "stdout",
          "text": [
            "25.12\n"
          ]
        }
      ]
    },
    {
      "cell_type": "markdown",
      "metadata": {
        "id": "xCa2bK9aD4Q3"
      },
      "source": [
        "(6) Write a Python program to concatenate following dictionaries to create a new one. (4 points)\n",
        "\n",
        "Sample Dictionary : dic1={1:10, 2:20}, dic2={3:30, 4:40}, dic3={5:50,6:60}, \n",
        "\n",
        "Expected Result : {1: 10, 2: 20, 3: 30, 4: 40, 5: 50, 6: 60}\n"
      ]
    },
    {
      "cell_type": "code",
      "metadata": {
        "id": "_z4aLqAbEET1",
        "colab": {
          "base_uri": "https://localhost:8080/"
        },
        "outputId": "5cb63290-57c8-40a5-fdfe-6e52ba052db2"
      },
      "source": [
        "dic1={1:10, 2:20}\n",
        "dic2={3:30, 4:40}\n",
        "dic3={5:50,6:60}\n",
        "result = {}\n",
        "for x in (dic1, dic2, dic3): result.update(x)\n",
        "print(result)\n"
      ],
      "execution_count": null,
      "outputs": [
        {
          "output_type": "stream",
          "name": "stdout",
          "text": [
            "{1: 10, 2: 20, 3: 30, 4: 40, 5: 50, 6: 60}\n"
          ]
        }
      ]
    },
    {
      "cell_type": "markdown",
      "metadata": {
        "id": "0v48Vqa7FrQh"
      },
      "source": [
        "(7) Write a Python program to check whether an element exists within a tuple. (4 points)"
      ]
    },
    {
      "cell_type": "code",
      "metadata": {
        "id": "7WEmgq-DF2P1",
        "colab": {
          "base_uri": "https://localhost:8080/"
        },
        "outputId": "7fbfa310-a67a-48b4-b759-bb88cd497dee"
      },
      "source": [
        "tuple = (\"a\",\"e\",\"i\",\"o\",\"u\",1, 2, 3)\n",
        "print(\"i\" in tuple)\n",
        "print(\"e\" in tuple)\n",
        "print(9 in tuple)\n"
      ],
      "execution_count": null,
      "outputs": [
        {
          "output_type": "stream",
          "name": "stdout",
          "text": [
            "True\n",
            "True\n",
            "False\n"
          ]
        }
      ]
    },
    {
      "cell_type": "markdown",
      "metadata": {
        "id": "vD5PYLMuGga_"
      },
      "source": [
        "(8) Write a Python program to find maximum and the minimum value in a set. (4 points)"
      ]
    },
    {
      "cell_type": "code",
      "metadata": {
        "id": "t0D5kdJUGjjw",
        "colab": {
          "base_uri": "https://localhost:8080/"
        },
        "outputId": "ec61b196-fad2-4192-f77a-d2881a56fbea"
      },
      "source": [
        "set = {2,8,45, 55, 6, 90}\n",
        "print(set)\n",
        "print(\"\\nMaximum value:\")\n",
        "print(max(set))\n",
        "print(\"\\nMinimum value:\")\n",
        "print(min(set))\n"
      ],
      "execution_count": 3,
      "outputs": [
        {
          "output_type": "stream",
          "name": "stdout",
          "text": [
            "{2, 6, 8, 45, 55, 90}\n",
            "\n",
            "Maximum value:\n",
            "90\n",
            "\n",
            "Minimum value:\n",
            "2\n"
          ]
        }
      ]
    },
    {
      "cell_type": "markdown",
      "metadata": {
        "id": "uHkd-y5VhVWC"
      },
      "source": [
        "(9) Write a Python program to randomly divide the students in this class into six groups for term projects, each group should have at least 4 students but no more than 6 students (including 6). Here is the students list: (4 points)\n",
        "\n",
        "studnet_list = ['vmb0067','pc0353','snd0097','yye0005','sg0940','bk0301','rak0120','rrk0058','spk0057','vl0135','nm0547','pn0159',\n",
        "           'msp0174','dd0420','ds0761','rs0850','ss1995','at0739','at0768','mv0299','tv0119','dy0091','py0080','ttp0037','hc0439','ri0094','pk0339', 'hn0145','mn0426']"
      ]
    },
    {
      "cell_type": "code",
      "metadata": {
        "id": "3iGbmcOBhTwy",
        "colab": {
          "base_uri": "https://localhost:8080/"
        },
        "outputId": "6440f60d-46cf-4db3-c2cc-728d9e388911"
      },
      "source": [
        "import random\n",
        "\n",
        "def random_groups(student_list):\n",
        "    rand_list = random.sample(range(0,len(student_list)),len(student_list))\n",
        "    rand_num = random.randint(0,5)\n",
        "    rearraged_group = []\n",
        "    for i in range(len(student_list)):\n",
        "        rearraged_group.append(student_list[rand_list[i]])\n",
        "    \n",
        "    if rand_num == 0:\n",
        "        group1=rearraged_group[0:4]\n",
        "        group2=rearraged_group[4:9]\n",
        "        group3=rearraged_group[9:14]\n",
        "        group4=rearraged_group[14:19]\n",
        "        group5=rearraged_group[19:24]\n",
        "        group6=rearraged_group[24:]\n",
        "    \n",
        "    elif rand_num == 1:\n",
        "        group1=rearraged_group[0:5]\n",
        "        group2=rearraged_group[5:9]\n",
        "        group3=rearraged_group[9:14]\n",
        "        group4=rearraged_group[14:19]\n",
        "        group5=rearraged_group[19:24]\n",
        "        group6=rearraged_group[24:]\n",
        "    \n",
        "    elif rand_num == 2:\n",
        "        group1=rearraged_group[0:5]\n",
        "        group2=rearraged_group[5:10]\n",
        "        group3=rearraged_group[10:14]\n",
        "        group4=rearraged_group[14:19]\n",
        "        group5=rearraged_group[19:24]\n",
        "        group6=rearraged_group[24:]\n",
        "    \n",
        "    elif rand_num == 3:\n",
        "        group1=rearraged_group[0:5]\n",
        "        group2=rearraged_group[5:10]\n",
        "        group3=rearraged_group[10:15]\n",
        "        group4=rearraged_group[15:19]\n",
        "        group5=rearraged_group[19:24]\n",
        "        group6=rearraged_group[24:]\n",
        "    \n",
        "    elif rand_num == 4:\n",
        "        group1=rearraged_group[0:5]\n",
        "        group2=rearraged_group[5:10]\n",
        "        group3=rearraged_group[10:15]\n",
        "        group4=rearraged_group[15:20]\n",
        "        group5=rearraged_group[20:24]\n",
        "        group6=rearraged_group[24:]\n",
        "    \n",
        "    elif rand_num == 5:\n",
        "        group1=rearraged_group[0:5]\n",
        "        group2=rearraged_group[5:10]\n",
        "        group3=rearraged_group[10:15]\n",
        "        group4=rearraged_group[15:20]\n",
        "        group5=rearraged_group[20:25]\n",
        "        group6=rearraged_group[25:]\n",
        "    \n",
        "    return [group1,group2,group3,group4,group5,group6]\n",
        "\n",
        "studnet_list = ['vmb0067','pc0353','snd0097','yye0005','sg0940','bk0301','rak0120','rrk0058','spk0057','vl0135','nm0547','pn0159', 'msp0174','dd0420','ds0761','rs0850','ss1995','at0739','at0768','mv0299','tv0119','dy0091','py0080','ttp0037','hc0439','ri0094','pk0339', 'hn0145','mn0426']\n",
        "\n",
        "print(random_groups(studnet_list))"
      ],
      "execution_count": 8,
      "outputs": [
        {
          "output_type": "stream",
          "name": "stdout",
          "text": [
            "[['ds0761', 'tv0119', 'dd0420', 'mv0299', 'dy0091'], ['vmb0067', 'ri0094', 'at0739', 'msp0174', 'at0768'], ['rs0850', 'pn0159', 'snd0097', 'ttp0037', 'hn0145'], ['nm0547', 'hc0439', 'yye0005', 'sg0940', 'pk0339'], ['bk0301', 'mn0426', 'spk0057', 'pc0353'], ['ss1995', 'vl0135', 'py0080', 'rrk0058', 'rak0120']]\n"
          ]
        }
      ]
    },
    {
      "cell_type": "markdown",
      "metadata": {
        "id": "w579DUyLl5yl"
      },
      "source": [
        "(10) Write a Python program to find the duplicate elements in a given array of integers. Return -1 If there are no such elements. (4 points)"
      ]
    },
    {
      "cell_type": "code",
      "metadata": {
        "id": "V7KaAz_3l5ym",
        "colab": {
          "base_uri": "https://localhost:8080/"
        },
        "outputId": "e88662ee-c7f8-4582-f1b8-43ed3137ee14"
      },
      "source": [
        "def find_first_duplicate(nums):\n",
        "    \n",
        "    no_duplicate = -1\n",
        "    duplicate_set = {}\n",
        "    for i in range(len(nums)):\n",
        "        if nums[i] in nums[i+1:]:\n",
        "            duplicate_set[nums[i]]=1\n",
        "            no_duplicate = 1\n",
        "        \n",
        "    if no_duplicate == -1 :\n",
        "        return -1\n",
        "    else:\n",
        "        return list(duplicate_set.keys())\n",
        "\n",
        "print(find_first_duplicate([1, 2, 3, 4]))\n",
        "print(find_first_duplicate([1,1, 2, 3, 2]))"
      ],
      "execution_count": 15,
      "outputs": [
        {
          "output_type": "stream",
          "name": "stdout",
          "text": [
            "-1\n",
            "[1, 2]\n"
          ]
        }
      ]
    },
    {
      "cell_type": "markdown",
      "metadata": {
        "id": "sZuQa_i6l5yo"
      },
      "source": [
        "(11) Write a Python program to select all the Sundays of a specified year. (4 extra points)"
      ]
    },
    {
      "cell_type": "code",
      "metadata": {
        "id": "dzL04BhAl5yp"
      },
      "source": [
        "# write your answer here\n"
      ],
      "execution_count": null,
      "outputs": []
    }
  ]
}